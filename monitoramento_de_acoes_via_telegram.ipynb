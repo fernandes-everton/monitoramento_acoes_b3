{
 "cells": [
  {
   "cell_type": "markdown",
   "metadata": {
    "application/vnd.databricks.v1+cell": {
     "cellMetadata": {
      "byteLimit": 2048000,
      "rowLimit": 10000
     },
     "inputWidgets": {},
     "nuid": "7e7f990a-aaeb-403f-b968-f42f8ed70da8",
     "showTitle": false,
     "tableResultSettingsMap": {},
     "title": ""
    }
   },
   "source": [
    "# Monitoramento de Ações Via Telegram"
   ]
  },
  {
   "cell_type": "markdown",
   "metadata": {
    "application/vnd.databricks.v1+cell": {
     "cellMetadata": {
      "byteLimit": 2048000,
      "rowLimit": 10000
     },
     "inputWidgets": {},
     "nuid": "50fc4f88-c56d-403f-bd8e-650c24126568",
     "showTitle": false,
     "tableResultSettingsMap": {},
     "title": ""
    }
   },
   "source": [
    "## Install Dependencies"
   ]
  },
  {
   "cell_type": "code",
   "execution_count": 0,
   "metadata": {
    "application/vnd.databricks.v1+cell": {
     "cellMetadata": {
      "byteLimit": 2048000,
      "rowLimit": 10000
     },
     "inputWidgets": {},
     "nuid": "431bf5e6-5d5a-4f6b-8c6c-c83346098650",
     "showTitle": false,
     "tableResultSettingsMap": {},
     "title": ""
    }
   },
   "outputs": [],
   "source": [
    "!pip install requests\n",
    "!pip install yfinance"
   ]
  },
  {
   "cell_type": "markdown",
   "metadata": {
    "application/vnd.databricks.v1+cell": {
     "cellMetadata": {
      "byteLimit": 2048000,
      "rowLimit": 10000
     },
     "inputWidgets": {},
     "nuid": "149be67e-9ce4-4b01-b8ff-d1f1a07491cd",
     "showTitle": false,
     "tableResultSettingsMap": {},
     "title": ""
    }
   },
   "source": [
    "## Imports"
   ]
  },
  {
   "cell_type": "code",
   "execution_count": 0,
   "metadata": {
    "application/vnd.databricks.v1+cell": {
     "cellMetadata": {
      "byteLimit": 2048000,
      "rowLimit": 10000
     },
     "inputWidgets": {},
     "nuid": "6fded60d-03c3-4a0c-a155-7a0f41089667",
     "showTitle": false,
     "tableResultSettingsMap": {},
     "title": ""
    }
   },
   "outputs": [
    {
     "data": {
      "application/vnd.databricks.v1+bamboolib_hint": "{\"pd.DataFrames\": [], \"version\": \"0.0.1\"}",
      "text/plain": []
     },
     "metadata": {},
     "output_type": "display_data"
    }
   ],
   "source": [
    "import yfinance as yf\n",
    "import pandas as pd\n",
    "import requests\n",
    "import json\n",
    "from datetime import datetime"
   ]
  },
  {
   "cell_type": "markdown",
   "metadata": {
    "application/vnd.databricks.v1+cell": {
     "cellMetadata": {
      "byteLimit": 2048000,
      "rowLimit": 10000
     },
     "inputWidgets": {},
     "nuid": "07797f4e-6b65-4ddd-a290-5c73a37fb3d8",
     "showTitle": false,
     "tableResultSettingsMap": {},
     "title": ""
    }
   },
   "source": [
    "## Bot Configuration"
   ]
  },
  {
   "cell_type": "code",
   "execution_count": 0,
   "metadata": {
    "application/vnd.databricks.v1+cell": {
     "cellMetadata": {
      "byteLimit": 2048000,
      "rowLimit": 10000
     },
     "inputWidgets": {},
     "nuid": "048e2074-2799-40ff-b01b-e5f543089bd7",
     "showTitle": false,
     "tableResultSettingsMap": {},
     "title": ""
    }
   },
   "outputs": [],
   "source": [
    "# URLs do Telegram Bot\n",
    "# https://api.telegram.org/bot<SEU_TOKEN>/getUpdates\n",
    "\n",
    "url = \"https://api.telegram.org/bot<SEU_TOKEN>/sendMessage\"\n",
    "\n",
    "config = [{\n",
    "    \"acao\" : \"\",\n",
    "    \"percent_caiu\" : 1,\n",
    "    \"percent_subiu\" : 1.02,\n",
    "    \"vl_caiu\" : 0.15,\n",
    "    \"vl_subiu\" : 0.15,\n",
    "    \"ids_chat\" : [<SEU_CHAT_ID>]\n",
    "    },       \n",
    "    {\n",
    "    \"acao\" : \"\",\n",
    "    \"percent_caiu\" : 1,\n",
    "    \"percent_subiu\" : 1.02,\n",
    "    \"vl_caiu\" : 0.15,\n",
    "    \"vl_subiu\" : 0.15,\n",
    "    \"ids_chat\" : [<SEU_CHAT_ID>]\n",
    "    }          \n",
    "]"
   ]
  },
  {
   "cell_type": "markdown",
   "metadata": {
    "application/vnd.databricks.v1+cell": {
     "cellMetadata": {},
     "inputWidgets": {},
     "nuid": "a1ec9562-e6a3-4516-bb49-3704dd1e843d",
     "showTitle": false,
     "tableResultSettingsMap": {},
     "title": ""
    }
   },
   "source": [
    "## Debug Logging"
   ]
  },
  {
   "cell_type": "code",
   "execution_count": 0,
   "metadata": {
    "application/vnd.databricks.v1+cell": {
     "cellMetadata": {
      "byteLimit": 2048000,
      "rowLimit": 10000
     },
     "inputWidgets": {},
     "nuid": "87edc060-daf6-40f1-bfae-57533a85b280",
     "showTitle": false,
     "tableResultSettingsMap": {},
     "title": ""
    }
   },
   "outputs": [],
   "source": [
    "def log_debug(msg):\n",
    "  \"\"\"\n",
    "  Exibe mensagens de debug com timestamp.\n",
    "    \n",
    "  \"\"\"\n",
    "\n",
    "  print(f\"[DEBUG] {datetime.now()} - {msg}\")\n"
   ]
  },
  {
   "cell_type": "markdown",
   "metadata": {
    "application/vnd.databricks.v1+cell": {
     "cellMetadata": {
      "byteLimit": 2048000,
      "rowLimit": 10000
     },
     "inputWidgets": {},
     "nuid": "ea49d661-6fa9-4f1c-aa2e-969405eeab48",
     "showTitle": false,
     "tableResultSettingsMap": {},
     "title": ""
    }
   },
   "source": [
    "## Get Stock Prices"
   ]
  },
  {
   "cell_type": "code",
   "execution_count": 0,
   "metadata": {
    "application/vnd.databricks.v1+cell": {
     "cellMetadata": {
      "byteLimit": 2048000,
      "rowLimit": 10000
     },
     "inputWidgets": {},
     "nuid": "9026e2c1-9281-4142-bb1e-0a520fc017ac",
     "showTitle": false,
     "tableResultSettingsMap": {},
     "title": ""
    }
   },
   "outputs": [],
   "source": [
    "def get_ticket(p_acao):\n",
    "    '''\n",
    "    Retorna os valores de uma determinada ação na última cotação disponível.\n",
    "\n",
    "    Args: \n",
    "        p_acao::String\n",
    "    Returns:        \n",
    "        vl_abertura::Float\n",
    "        vl_fechamento::Float\n",
    "        vl_variacao::Float\n",
    "        percent_variacao::Float\n",
    "    '''\n",
    "    \n",
    "    try:\n",
    "        df_cotacao = yf.download(p_acao, period='1d')\n",
    "        vl_abertura = df_cotacao.iloc[0]['Open']\n",
    "        vl_fechamento = df_cotacao.iloc[0]['Close']\n",
    "\n",
    "        # TRATA ERRO NO YFINANCE\n",
    "        if vl_abertura == 0 or vl_fechamento == 0:\n",
    "            log_debug(f\"Problema ao obter dados de {p_acao}!\")\n",
    "            df_cotacao = yf.download(p_acao, period='2d')\n",
    "            vl_abertura = df_cotacao.iloc[0]['Open']\n",
    "            vl_fechamento = df_cotacao.iloc[0]['Close']\n",
    "\n",
    "        vl_variacao = vl_fechamento - vl_abertura    \n",
    "        percent_variacao = ((vl_fechamento * 100) / vl_abertura) - 100 \n",
    "\n",
    "        return {\n",
    "            \"vl_abertura\": round(vl_abertura, 2),\n",
    "            \"vl_fechamento\": round(vl_fechamento, 2),\n",
    "            \"vl_variacao\": round(vl_variacao, 2),\n",
    "            \"percent_variacao\": round(percent_variacao, 2)\n",
    "        }\n",
    "    except Exception as e:\n",
    "        print(f\"[Erro] Erro ao buscar cotação de {p_acao}. Detalhes: {e}\")\n",
    "        return None\n",
    "    "
   ]
  },
  {
   "cell_type": "markdown",
   "metadata": {
    "application/vnd.databricks.v1+cell": {
     "cellMetadata": {
      "byteLimit": 2048000,
      "rowLimit": 10000
     },
     "inputWidgets": {},
     "nuid": "34c1b374-a855-48d1-a794-e77dada0a9a4",
     "showTitle": false,
     "tableResultSettingsMap": {},
     "title": ""
    }
   },
   "source": [
    "## Send Message"
   ]
  },
  {
   "cell_type": "code",
   "execution_count": 0,
   "metadata": {
    "application/vnd.databricks.v1+cell": {
     "cellMetadata": {
      "byteLimit": 2048000,
      "rowLimit": 10000
     },
     "inputWidgets": {},
     "nuid": "3cfbb246-1662-4722-a1dc-42652d29b22b",
     "showTitle": false,
     "tableResultSettingsMap": {},
     "title": ""
    }
   },
   "outputs": [],
   "source": [
    "def send_message_telegram(p_idChat, p_text):\n",
    "    '''\n",
    "    Envia mensagem ao Telegram via BOT\n",
    "\n",
    "    Args:\n",
    "        p_idChat::List -> Código único da conversa\n",
    "        p_text::String -> Corpo da mensagem\n",
    "    '''\n",
    "\n",
    "    for id_chat in p_idChat:\n",
    "        payload = json.dumps({\n",
    "            \"chat_id\": id_chat,\n",
    "            \"text\": p_text,\n",
    "            \"parse_mode\": \"HTML\"\n",
    "        })\n",
    "\n",
    "        headers = {\n",
    "            'Content-Type': 'application/json'\n",
    "        }\n",
    "\n",
    "        response = requests.request(\"POST\", url, headers=headers, data=payload)\n",
    "\n",
    "    return True\n"
   ]
  },
  {
   "cell_type": "markdown",
   "metadata": {
    "application/vnd.databricks.v1+cell": {
     "cellMetadata": {},
     "inputWidgets": {},
     "nuid": "b628bcc0-d1f1-41e6-95d8-cab4a4644dfa",
     "showTitle": false,
     "tableResultSettingsMap": {},
     "title": ""
    }
   },
   "source": [
    "## Alert Verification"
   ]
  },
  {
   "cell_type": "code",
   "execution_count": 0,
   "metadata": {
    "application/vnd.databricks.v1+cell": {
     "cellMetadata": {
      "byteLimit": 2048000,
      "rowLimit": 10000
     },
     "inputWidgets": {},
     "nuid": "156b773e-b6d5-41ce-91e6-65deaefb5539",
     "showTitle": false,
     "tableResultSettingsMap": {},
     "title": ""
    }
   },
   "outputs": [],
   "source": [
    "def verificar_alertas(acao, trigger_alerta, json_cotacao): \n",
    "    \"\"\"\n",
    "    Verifica se os valores da ação disparam os gatilhos de alerta definidos.\n",
    "\n",
    "    \"\"\"\n",
    "\n",
    "    real_vl_variacao = json_cotacao.get('vl_variacao', 0)\n",
    "    real_percent_variacao = json_cotacao.get('percent_variacao', 0)\n",
    "    trigger_ids_chat = trigger_alerta.get(\"ids_chat\", [])\n",
    "\n",
    "    # VALIDA SE A AÇÃO SUBIU EM %        \n",
    "    if trigger_alerta.get(\"percent_subiu\", 0) != 0:\n",
    "        log_debug(f'Alerta se {acao} subir {trigger_alerta.get(\"percent_subiu\", 0)} %')\n",
    "        log_debug(f'{acao} variou {real_percent_variacao} %')\n",
    "        \n",
    "        if trigger_alerta.get(\"percent_subiu\", 0) <= real_percent_variacao:\n",
    "            log_debug('--->>> GATILHO ATIVADO! <<<---')\n",
    "\n",
    "            mensagem = (\n",
    "                f\"📈 <b>ALERTA!</b>\\n\\n\"\n",
    "                f\"<i>Monitor de Ações BOT:</i>\\n\"\n",
    "                f\"<b>Ação:</b> {acao}\\n\"            \n",
    "                f\"<b>Gatilho:</b> {trigger_alerta.get('percent_subiu', 0)}% de alta\\n\"\n",
    "                f\"<b>Variação:</b> {real_percent_variacao}% (Alta)\\n\"\n",
    "            )\n",
    "\n",
    "            send_message_telegram(trigger_ids_chat, mensagem)\n",
    "\n",
    "        print(\"--------------------------------------------------------------------\")    \n",
    "\n",
    "    # VALIDA SE A AÇÃO CAIU EM %\n",
    "    if trigger_alerta.get(\"percent_caiu\", 0) != 0:\n",
    "        log_debug(f'Alerta se {acao} cair {trigger_alerta.get(\"percent_caiu\", 0)} %')\n",
    "        log_debug(f'{acao} variou {real_percent_variacao} %')   \n",
    "\n",
    "        if trigger_alerta.get(\"percent_caiu\", 0) * -1 >= real_percent_variacao:\n",
    "            log_debug('--->>> GATILHO ATIVADO! <<<---')\n",
    "\n",
    "            mensagem = (\n",
    "                f\"⚠️ <b>ALERTA!</b>\\n\\n\"\n",
    "                f\"<i>Monitor de Ações BOT:</i>\\n\"\n",
    "                f\"<b>Ação:</b> {acao}\\n\"\n",
    "                f\"<b>Gatilho:</b> {trigger_alerta.get('percent_caiu', 0)}% de baixa\\n\"\n",
    "                f\"<b>Variação:</b> {real_percent_variacao}% (Baixa)\\n\"\n",
    "            )\n",
    "\n",
    "            send_message_telegram(trigger_ids_chat, mensagem)\n",
    "\n",
    "        print(\"--------------------------------------------------------------------\")\n",
    "\n",
    "    # VALIDA SE A AÇÃO SUBIU EM VALOR\n",
    "    if trigger_alerta.get(\"vl_subiu\", 0) != 0:\n",
    "        log_debug(f'Alerta se {acao} subir R$ {trigger_alerta.get(\"vl_subiu\", 0)}')\n",
    "        log_debug(f'{acao} variou {real_vl_variacao} %')\n",
    "\n",
    "        if trigger_alerta.get(\"vl_subiu\", 0) <= real_vl_variacao:\n",
    "            log_debug('--->>> GATILHO ATIVADO! <<<---')\n",
    "\n",
    "            mensagem = (\n",
    "                f\"📈 <b>ALERTA!</b>\\n\\n\"\n",
    "                f\"<i>Monitor de Ações BOT:</i>\\n\"\n",
    "                f\"<b>Ação:</b> {acao}\\n\"\n",
    "                f\"<b>Gatilho:</b> R$ {trigger_alerta.get('vl_subiu', 0)} de alta\\n\"\n",
    "                f\"<b>Variação:</b> R$ {real_vl_variacao} (Alta)\\n\"\n",
    "            )\n",
    "            send_message_telegram(trigger_ids_chat, mensagem)\n",
    "        \n",
    "        print(\"--------------------------------------------------------------------\")\n",
    "\n",
    "    # VALIDA SE A AÇÃO CAIU EM VALOR\n",
    "    if trigger_alerta.get(\"vl_caiu\", 0) != 0:\n",
    "        log_debug(f'Alerta se {acao} cair R$ {trigger_alerta.get(\"vl_caiu\", 0)}')\n",
    "        log_debug(f'{acao} variou {real_vl_variacao} %')\n",
    "\n",
    "        if trigger_alerta.get(\"vl_caiu\", 0) * -1 >= real_vl_variacao:\n",
    "            log_debug('--->>> GATILHO ATIVADO! <<<---')\n",
    "\n",
    "            mensagem = (\n",
    "                f\"📉 <b>ALERTA!</b>\\n\\n\"\n",
    "                f\"<i>Monitor de Ações BOT:</i>\\n\"\n",
    "                f\"<b>Ação:</b> {acao}\\n\"\n",
    "                f\"<b>Gatilho:</b> R$ {trigger_alerta.get('vl_caiu', 0)} de baixa\\n\"\n",
    "                f\"<b>Variação:</b> R$ {real_vl_variacao} (Baixa)\\n\"\n",
    "            )\n",
    "            send_message_telegram(trigger_ids_chat, mensagem)\n",
    "        \n",
    "        print(\"--------------------------------------------------------------------\")\n"
   ]
  },
  {
   "cell_type": "markdown",
   "metadata": {
    "application/vnd.databricks.v1+cell": {
     "cellMetadata": {
      "byteLimit": 2048000,
      "rowLimit": 10000
     },
     "inputWidgets": {},
     "nuid": "3a269b18-5e2c-4487-ad7b-c3319024dfd5",
     "showTitle": false,
     "tableResultSettingsMap": {},
     "title": ""
    }
   },
   "source": [
    "## Run"
   ]
  },
  {
   "cell_type": "code",
   "execution_count": 0,
   "metadata": {
    "application/vnd.databricks.v1+cell": {
     "cellMetadata": {
      "byteLimit": 2048000,
      "rowLimit": 10000
     },
     "inputWidgets": {},
     "nuid": "211b64cf-c6ae-4923-bc47-431c143aa0c0",
     "showTitle": false,
     "tableResultSettingsMap": {},
     "title": ""
    }
   },
   "outputs": [
    {
     "name": "stdout",
     "output_type": "stream",
     "text": [
      "[DEBUG] 2024-11-02 00:49:38.485391 - Processando gatilhos para a ação: BBAS3.SA\n",
      "\r[*********************100%%**********************]  1 of 1 completed\n",
      "[DEBUG] 2024-11-02 00:49:38.573453 - Alerta se BBAS3.SA subir 1.02 %\n",
      "[DEBUG] 2024-11-02 00:49:38.573479 - BBAS3.SA variou -0.99 %\n",
      "--------------------------------------------------------------------\n",
      "[DEBUG] 2024-11-02 00:49:38.573555 - Alerta se BBAS3.SA cair 1 %\n",
      "[DEBUG] 2024-11-02 00:49:38.573566 - BBAS3.SA variou -0.99 %\n",
      "--------------------------------------------------------------------\n",
      "[DEBUG] 2024-11-02 00:49:38.573580 - Alerta se BBAS3.SA subir R$ 0.15\n",
      "[DEBUG] 2024-11-02 00:49:38.573588 - BBAS3.SA variou -0.26 %\n",
      "--------------------------------------------------------------------\n",
      "[DEBUG] 2024-11-02 00:49:38.573600 - Alerta se BBAS3.SA cair R$ 0.15\n",
      "[DEBUG] 2024-11-02 00:49:38.573608 - BBAS3.SA variou -0.26 %\n",
      "[DEBUG] 2024-11-02 00:49:38.573615 - --->>> GATILHO ATIVADO! <<<---\n",
      "--------------------------------------------------------------------\n",
      "####################################################################\n",
      "[DEBUG] 2024-11-02 00:49:39.221006 - Processando gatilhos para a ação: ITUB4.SA\n",
      "\r[*********************100%%**********************]  1 of 1 completed\n",
      "[DEBUG] 2024-11-02 00:49:39.381739 - Alerta se ITUB4.SA subir 1.02 %\n",
      "[DEBUG] 2024-11-02 00:49:39.381761 - ITUB4.SA variou -0.54 %\n",
      "--------------------------------------------------------------------\n",
      "[DEBUG] 2024-11-02 00:49:39.381772 - Alerta se ITUB4.SA cair 1 %\n",
      "[DEBUG] 2024-11-02 00:49:39.381777 - ITUB4.SA variou -0.54 %\n",
      "--------------------------------------------------------------------\n",
      "[DEBUG] 2024-11-02 00:49:39.381787 - Alerta se ITUB4.SA subir R$ 0.15\n",
      "[DEBUG] 2024-11-02 00:49:39.381792 - ITUB4.SA variou -0.19 %\n",
      "--------------------------------------------------------------------\n",
      "[DEBUG] 2024-11-02 00:49:39.381800 - Alerta se ITUB4.SA cair R$ 0.15\n",
      "[DEBUG] 2024-11-02 00:49:39.381805 - ITUB4.SA variou -0.19 %\n",
      "[DEBUG] 2024-11-02 00:49:39.381810 - --->>> GATILHO ATIVADO! <<<---\n",
      "--------------------------------------------------------------------\n",
      "####################################################################\n"
     ]
    }
   ],
   "source": [
    "for trigger_alerta in config:\n",
    "    log_debug(f\"Processando gatilhos para a ação: {trigger_alerta['acao']}\")\n",
    "    \n",
    "    acao = trigger_alerta.get(\"acao\", \"\")\n",
    "    json_cotacao = get_ticket(acao)\n",
    "    \n",
    "    if json_cotacao:\n",
    "        verificar_alertas(acao, trigger_alerta, json_cotacao)\n",
    "    else:\n",
    "        log_debug(f\"Não foi possível obter dados para a ação {acao}.\")\n",
    "    \n",
    "    print(\"####################################################################\")\n"
   ]
  }
 ],
 "metadata": {
  "application/vnd.databricks.v1+notebook": {
   "dashboards": [],
   "environmentMetadata": null,
   "language": "python",
   "notebookMetadata": {
    "pythonIndentUnit": 4
   },
   "notebookName": "monitoramento_de_acoes_via_telegram",
   "widgets": {}
  },
  "language_info": {
   "name": "python"
  }
 },
 "nbformat": 4,
 "nbformat_minor": 0
}
