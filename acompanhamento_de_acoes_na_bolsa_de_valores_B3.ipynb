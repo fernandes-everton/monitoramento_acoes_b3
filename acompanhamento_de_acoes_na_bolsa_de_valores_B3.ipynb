{
 "cells": [
  {
   "cell_type": "markdown",
   "metadata": {},
   "source": [
    "# Acompanhamento de Ações na B3"
   ]
  },
  {
   "cell_type": "markdown",
   "metadata": {
    "application/vnd.databricks.v1+cell": {
     "cellMetadata": {
      "byteLimit": 2048000,
      "rowLimit": 10000
     },
     "inputWidgets": {},
     "nuid": "8384cea7-79b5-454a-a09b-e8d08a22b532",
     "showTitle": false,
     "tableResultSettingsMap": {},
     "title": ""
    }
   },
   "source": [
    "# Install Dependencies"
   ]
  },
  {
   "cell_type": "code",
   "execution_count": 0,
   "metadata": {
    "application/vnd.databricks.v1+cell": {
     "cellMetadata": {
      "byteLimit": 2048000,
      "rowLimit": 10000
     },
     "collapsed": true,
     "inputWidgets": {},
     "nuid": "bcc8dfc6-6eff-4710-86c8-1621bb64dfdb",
     "showTitle": false,
     "tableResultSettingsMap": {},
     "title": ""
    }
   },
   "outputs": [],
   "source": [
    "!pip install yfinance"
   ]
  },
  {
   "cell_type": "markdown",
   "metadata": {
    "application/vnd.databricks.v1+cell": {
     "cellMetadata": {
      "byteLimit": 2048000,
      "rowLimit": 10000
     },
     "inputWidgets": {},
     "nuid": "ec2c2087-0a53-4015-bf6a-a22eaf56d234",
     "showTitle": false,
     "tableResultSettingsMap": {},
     "title": ""
    }
   },
   "source": [
    "# Imports"
   ]
  },
  {
   "cell_type": "code",
   "execution_count": 0,
   "metadata": {
    "application/vnd.databricks.v1+cell": {
     "cellMetadata": {
      "byteLimit": 2048000,
      "rowLimit": 10000
     },
     "inputWidgets": {},
     "nuid": "c514f384-1e70-4441-8e26-d5571fd2bb6a",
     "showTitle": false,
     "tableResultSettingsMap": {},
     "title": ""
    }
   },
   "outputs": [],
   "source": [
    "import yfinance as yf\n",
    "import pandas as pd\n",
    "from datetime import datetime\n",
    "import pyspark\n",
    "from pyspark.sql import DataFrame, SparkSession"
   ]
  },
  {
   "cell_type": "markdown",
   "metadata": {
    "application/vnd.databricks.v1+cell": {
     "cellMetadata": {
      "byteLimit": 2048000,
      "rowLimit": 10000
     },
     "inputWidgets": {},
     "nuid": "c067af23-737b-4e26-b306-873a93b86525",
     "showTitle": false,
     "tableResultSettingsMap": {},
     "title": ""
    }
   },
   "source": [
    "# Configure Widgets and Variables"
   ]
  },
  {
   "cell_type": "code",
   "execution_count": 0,
   "metadata": {
    "application/vnd.databricks.v1+cell": {
     "cellMetadata": {
      "byteLimit": 2048000,
      "rowLimit": 10000
     },
     "inputWidgets": {},
     "nuid": "97e33525-3c4f-491d-b4b9-9eec9535baf8",
     "showTitle": false,
     "tableResultSettingsMap": {},
     "title": ""
    }
   },
   "outputs": [],
   "source": [
    "# Definir data atual\n",
    "data_atual = datetime.now().strftime(\"%Y-%m-%d\")"
   ]
  },
  {
   "cell_type": "code",
   "execution_count": 0,
   "metadata": {
    "application/vnd.databricks.v1+cell": {
     "cellMetadata": {
      "byteLimit": 2048000,
      "rowLimit": 10000
     },
     "inputWidgets": {},
     "nuid": "41b2a0a2-396e-4d5f-b6c7-013baf611a06",
     "showTitle": false,
     "tableResultSettingsMap": {},
     "title": ""
    }
   },
   "outputs": [],
   "source": [
    "# Criar Widgets\n",
    "dbutils.widgets.text(\"1. Código Ações\", \"\")\n",
    "dbutils.widgets.text(\"2. Data Inicial (Ano-Mês-Dia)\", data_atual, \"\")\n",
    "dbutils.widgets.text(\"3. Data Final (Ano-Mês-Dia)\", data_atual, \"\")"
   ]
  },
  {
   "cell_type": "code",
   "execution_count": 0,
   "metadata": {
    "application/vnd.databricks.v1+cell": {
     "cellMetadata": {
      "byteLimit": 2048000,
      "rowLimit": 10000
     },
     "inputWidgets": {},
     "nuid": "63aa97a1-dea1-4dee-98e4-1e5c781d87f8",
     "showTitle": false,
     "tableResultSettingsMap": {},
     "title": ""
    }
   },
   "outputs": [],
   "source": [
    "# Obter valores dos widgets\n",
    "filter_acoes = dbutils.widgets.get(\"1. Código Ações\")\n",
    "data_inicial = dbutils.widgets.get(\"2. Data Inicial (Ano-Mês-Dia)\")\n",
    "data_final = dbutils.widgets.get(\"3. Data Final (Ano-Mês-Dia)\")"
   ]
  },
  {
   "cell_type": "code",
   "execution_count": 0,
   "metadata": {
    "application/vnd.databricks.v1+cell": {
     "cellMetadata": {
      "byteLimit": 2048000,
      "rowLimit": 10000
     },
     "inputWidgets": {},
     "nuid": "2d16bc34-02d2-40dd-9027-bdb2fa3fdea6",
     "showTitle": false,
     "tableResultSettingsMap": {},
     "title": ""
    }
   },
   "outputs": [],
   "source": [
    "# Tratar valores e filtrar médias móveis\n",
    "acoes = filter_acoes.split(\",\")\n",
    "filter_media_movel = [\"15\", \"30\", \"60\", \"90\", \"120\"]"
   ]
  },
  {
   "cell_type": "markdown",
   "metadata": {
    "application/vnd.databricks.v1+cell": {
     "cellMetadata": {
      "byteLimit": 2048000,
      "rowLimit": 10000
     },
     "inputWidgets": {},
     "nuid": "71477db8-f2e0-466e-986f-89d9ff8b4886",
     "showTitle": false,
     "tableResultSettingsMap": {},
     "title": ""
    }
   },
   "source": [
    "# Get Stock Price and Moving Averages"
   ]
  },
  {
   "cell_type": "code",
   "execution_count": 0,
   "metadata": {
    "application/vnd.databricks.v1+cell": {
     "cellMetadata": {
      "byteLimit": 2048000,
      "rowLimit": 10000
     },
     "inputWidgets": {},
     "nuid": "b1ac7bc6-49ae-418a-9e92-1e0c085f77d0",
     "showTitle": false,
     "tableResultSettingsMap": {},
     "title": ""
    }
   },
   "outputs": [],
   "source": [
    "# Inicializar uma lista para os dados de cada ação\n",
    "dados_acoes = []\n",
    "\n",
    "for acao in acoes:\n",
    "    print(acao)\n",
    "    tabela_cotacoes = yf.download(acao, start=data_inicial, end=data_final)\n",
    "\n",
    "    # Adicionar código da ação à tabela de cotações\n",
    "    tabela_cotacoes[\"Code\"] = acao\n",
    "    tabela_cotacoes = tabela_cotacoes.reset_index()\n",
    "\n",
    "    # Calcular médias móveis e adicionar à tabela de cotações\n",
    "    for media_movel in filter_media_movel:\n",
    "        tabela_cotacoes[f\"Media_movel_{media_movel}d\"] = tabela_cotacoes[\"Close\"].rolling(int(media_movel)).mean()\n",
    "\n",
    "    # Adicionar a tabela atual à lista de dados\n",
    "    dados_acoes.append(tabela_cotacoes)\n",
    "\n",
    "# Concatenar todas as tabelas acumuladas em um único DataFrame\n",
    "df_acoes = pd.concat(dados_acoes, ignore_index=True)\n",
    "\n",
    "# Exibir o DataFrame final\n",
    "display(df_acoes)\n"
   ]
  },
  {
   "cell_type": "markdown",
   "metadata": {
    "application/vnd.databricks.v1+cell": {
     "cellMetadata": {},
     "inputWidgets": {},
     "nuid": "bb122802-81d4-488b-a6f3-00a39e2df030",
     "showTitle": false,
     "tableResultSettingsMap": {},
     "title": ""
    }
   },
   "source": [
    "## Create Temporary View for Stock Analysis"
   ]
  },
  {
   "cell_type": "code",
   "execution_count": 0,
   "metadata": {
    "application/vnd.databricks.v1+cell": {
     "cellMetadata": {
      "byteLimit": 2048000,
      "rowLimit": 10000
     },
     "inputWidgets": {},
     "nuid": "7f29b3fa-b133-49dc-8dd7-eb255f5aee48",
     "showTitle": false,
     "tableResultSettingsMap": {},
     "title": ""
    }
   },
   "outputs": [],
   "source": [
    "spark.createDataFrame(df_acoes).createOrReplaceTempView(\"acoes_analise_temp\")"
   ]
  },
  {
   "cell_type": "markdown",
   "metadata": {
    "application/vnd.databricks.v1+cell": {
     "cellMetadata": {},
     "inputWidgets": {},
     "nuid": "2176f44e-f6f8-4a26-812f-d95b16438dc1",
     "showTitle": false,
     "tableResultSettingsMap": {},
     "title": ""
    }
   },
   "source": [
    "## Define Columns for Analysis and Create View"
   ]
  },
  {
   "cell_type": "code",
   "execution_count": 0,
   "metadata": {
    "application/vnd.databricks.v1+cell": {
     "cellMetadata": {
      "byteLimit": 2048000,
      "rowLimit": 10000
     },
     "inputWidgets": {},
     "nuid": "8fe0f804-3c4b-43b0-9d25-a64f00112e29",
     "showTitle": false,
     "tableResultSettingsMap": {},
     "title": ""
    }
   },
   "outputs": [],
   "source": [
    "colunas = \"\"\"\n",
    "CAST(Date AS Date) as data_negociacao, \n",
    "Code as codigo, \n",
    "round(Open, 2) as abertura, \n",
    "round(Close, 2) as fechamento, \n",
    "round(Close - Open, 4) as diff, \n",
    "round(High, 2) as maior_preco, \n",
    "round(Low, 2) as menor_preco, \n",
    "Volume as volume_necociacoes\n",
    "\"\"\"\n",
    "\n",
    "for media_movel in filter_media_movel:\n",
    "    colunas += f\", round(Media_Movel_{media_movel}d, 2) as media_movel_{media_movel}d\"\n",
    "\n",
    "acoes_analise = spark.sql(f\"SELECT {colunas} FROM acoes_analise_temp ORDER BY data_negociacao\")\n",
    "\n",
    "acoes_analise.createOrReplaceTempView(\"acoes_analise\")\n",
    "display(acoes_analise)\n"
   ]
  },
  {
   "cell_type": "markdown",
   "metadata": {
    "application/vnd.databricks.v1+cell": {
     "cellMetadata": {},
     "inputWidgets": {},
     "nuid": "bbd6a400-32c3-4fab-b72d-8ad1757dad76",
     "showTitle": false,
     "tableResultSettingsMap": {},
     "title": ""
    }
   },
   "source": [
    "# Get Dividend Data"
   ]
  },
  {
   "cell_type": "code",
   "execution_count": 0,
   "metadata": {
    "application/vnd.databricks.v1+cell": {
     "cellMetadata": {
      "byteLimit": 2048000,
      "rowLimit": 10000
     },
     "inputWidgets": {},
     "nuid": "54c12a43-e65e-4ef2-934a-1d7a9c0ffe3a",
     "showTitle": false,
     "tableResultSettingsMap": {},
     "title": ""
    }
   },
   "outputs": [],
   "source": [
    "# Inicializar uma lista para acumular os dados de dividendos de cada ação\n",
    "dados_dividendos = []\n",
    "\n",
    "for acao in acoes:\n",
    "    tabela_dividendos = yf.Ticker(acao).history(start=data_inicial, end=data_final)\n",
    "\n",
    "    # Adicionar código da ação à tabela de dividendos\n",
    "    tabela_dividendos[\"Code\"] = acao\n",
    "    tabela_dividendos = tabela_dividendos.reset_index()\n",
    "\n",
    "    # Adicionar a tabela atual à lista de dados\n",
    "    dados_dividendos.append(tabela_dividendos)\n",
    "\n",
    "# Concatenar todas as tabelas acumuladas em um único DataFrame\n",
    "df_dividendos_temp = pd.concat(dados_dividendos, ignore_index=True)\n",
    "\n",
    "# Exibir o DataFrame final\n",
    "display(df_dividendos_temp)\n"
   ]
  },
  {
   "cell_type": "markdown",
   "metadata": {
    "application/vnd.databricks.v1+cell": {
     "cellMetadata": {},
     "inputWidgets": {},
     "nuid": "1a100b57-c9f4-475a-bb97-366b964ae52c",
     "showTitle": false,
     "tableResultSettingsMap": {},
     "title": ""
    }
   },
   "source": [
    "## Create Temporary View for Dividends"
   ]
  },
  {
   "cell_type": "code",
   "execution_count": 0,
   "metadata": {
    "application/vnd.databricks.v1+cell": {
     "cellMetadata": {
      "byteLimit": 2048000,
      "rowLimit": 10000
     },
     "inputWidgets": {},
     "nuid": "f95b5d78-59ad-4790-9788-ee0aedb0c1aa",
     "showTitle": false,
     "tableResultSettingsMap": {},
     "title": ""
    }
   },
   "outputs": [],
   "source": [
    "spark.createDataFrame(df_dividendos_temp).createOrReplaceTempView(\"dividendos_temp\")"
   ]
  },
  {
   "cell_type": "markdown",
   "metadata": {
    "application/vnd.databricks.v1+cell": {
     "cellMetadata": {},
     "inputWidgets": {},
     "nuid": "1fcba96a-5ea8-4f2c-9e82-7bd8fbfcad32",
     "showTitle": false,
     "tableResultSettingsMap": {},
     "title": ""
    }
   },
   "source": [
    "## Define Columns for Dividend Analysis and Create View"
   ]
  },
  {
   "cell_type": "code",
   "execution_count": 0,
   "metadata": {
    "application/vnd.databricks.v1+cell": {
     "cellMetadata": {
      "byteLimit": 2048000,
      "rowLimit": 10000
     },
     "inputWidgets": {},
     "nuid": "61aea502-33b1-4eb3-9d4e-25ad23dd6a09",
     "showTitle": false,
     "tableResultSettingsMap": {},
     "title": ""
    }
   },
   "outputs": [],
   "source": [
    "colunas_dividendos = \"\"\"\n",
    "CAST(Date AS Date) as data_negociacao, \n",
    "Code as codigo, \n",
    "round(Open, 2) as abertura, \n",
    "round(Close, 2) as fechamento, \n",
    "round(Dividends, 6) as dividendos\n",
    "\"\"\"\n",
    "\n",
    "df_dividendos = spark.sql(f\"SELECT {colunas_dividendos} FROM dividendos_temp ORDER BY data_negociacao\")\n",
    "\n",
    "df_dividendos.createOrReplaceTempView(\"df_dividendos\")\n",
    "\n",
    "display(df_dividendos)\n"
   ]
  },
  {
   "cell_type": "markdown",
   "metadata": {
    "application/vnd.databricks.v1+cell": {
     "cellMetadata": {},
     "inputWidgets": {},
     "nuid": "0d60ff2d-8a4f-4650-9cc4-d498a91af342",
     "showTitle": false,
     "tableResultSettingsMap": {},
     "title": ""
    }
   },
   "source": [
    "# SQL Queries for Data Analysis"
   ]
  },
  {
   "cell_type": "markdown",
   "metadata": {
    "application/vnd.databricks.v1+cell": {
     "cellMetadata": {},
     "inputWidgets": {},
     "nuid": "33117dc1-f3b9-4e48-8a6c-58e5fc98e4cb",
     "showTitle": false,
     "tableResultSettingsMap": {},
     "title": ""
    }
   },
   "source": [
    "## Daily Performance"
   ]
  },
  {
   "cell_type": "code",
   "execution_count": 0,
   "metadata": {
    "application/vnd.databricks.v1+cell": {
     "cellMetadata": {
      "byteLimit": 2048000,
      "implicitDf": true,
      "rowLimit": 10000
     },
     "inputWidgets": {},
     "nuid": "b872b0ac-f1b4-4575-a340-72a0c62a39d2",
     "showTitle": false,
     "tableResultSettingsMap": {},
     "title": ""
    }
   },
   "outputs": [],
   "source": [
    "%sql\n",
    "\n",
    "SELECT\n",
    "  data_negociacao, \n",
    "  codigo, \n",
    "  abertura, \n",
    "  fechamento, \n",
    "  maior_preco as maxima,\n",
    "  menor_preco as minima,\n",
    "  round(diff, 2) AS diff\n",
    "FROM acoes_analise\n",
    "ORDER BY data_negociacao DESC"
   ]
  },
  {
   "cell_type": "markdown",
   "metadata": {
    "application/vnd.databricks.v1+cell": {
     "cellMetadata": {},
     "inputWidgets": {},
     "nuid": "8790b58b-4ba9-48f5-b83e-fef11ae8b9da",
     "showTitle": false,
     "tableResultSettingsMap": {},
     "title": ""
    }
   },
   "source": [
    "## Latest Profit/Loss"
   ]
  },
  {
   "cell_type": "code",
   "execution_count": 0,
   "metadata": {
    "application/vnd.databricks.v1+cell": {
     "cellMetadata": {
      "byteLimit": 2048000,
      "implicitDf": true,
      "rowLimit": 10000
     },
     "inputWidgets": {},
     "nuid": "6b4401c7-c87a-4eca-bd70-7aac09fc0211",
     "showTitle": false,
     "tableResultSettingsMap": {},
     "title": ""
    }
   },
   "outputs": [],
   "source": [
    "%sql\n",
    "\n",
    "SELECT\n",
    "  codigo,\n",
    "  ANY_VALUE(abertura) AS abertura,\n",
    "  ANY_VALUE(fechamento) AS fechamento,\n",
    "  round(diff, 2) as diff\n",
    "FROM acoes_analise\n",
    "WHERE \n",
    "  data_negociacao = (\n",
    "    SELECT max(data_negociacao)\n",
    "    FROM acoes_analise\n",
    "  )\n",
    "GROUP BY codigo, diff\n"
   ]
  },
  {
   "cell_type": "markdown",
   "metadata": {
    "application/vnd.databricks.v1+cell": {
     "cellMetadata": {},
     "inputWidgets": {},
     "nuid": "05ec9290-92b2-4f2c-9e5f-2ae03ee5cc3f",
     "showTitle": false,
     "tableResultSettingsMap": {},
     "title": ""
    }
   },
   "source": [
    "## Daily Variation"
   ]
  },
  {
   "cell_type": "code",
   "execution_count": 0,
   "metadata": {
    "application/vnd.databricks.v1+cell": {
     "cellMetadata": {
      "byteLimit": 2048000,
      "implicitDf": true,
      "rowLimit": 10000
     },
     "inputWidgets": {},
     "nuid": "d98c463d-214e-409c-be56-9e78925be853",
     "showTitle": false,
     "tableResultSettingsMap": {},
     "title": ""
    }
   },
   "outputs": [],
   "source": [
    "%sql\n",
    "\n",
    "WITH \n",
    "datas as (\n",
    "  SELECT\n",
    "    max(data_negociacao) as data_atual,\n",
    "    (SELECT max(data_negociacao) FROM acoes_analise WHERE data_negociacao < (SELECT max(data_negociacao) FROM acoes_analise)) AS data_anterior\n",
    "  FROM acoes_analise\n",
    "),\n",
    "pega_valores as (\n",
    "SELECT\n",
    "  acoes.codigo,\n",
    "  CASE WHEN acoes.data_negociacao = datas.data_atual THEN acoes.fechamento END as preco_atual,\n",
    "  CASE WHEN acoes.data_negociacao = datas.data_anterior THEN acoes.fechamento END as preco_anterior  \n",
    "FROM acoes_analise acoes\n",
    "INNER JOIN datas ON datas.data_atual = acoes.data_negociacao OR datas.data_anterior = acoes.data_negociacao\n",
    ")\n",
    "SELECT\n",
    "  pega_valores.codigo,\n",
    "  max(preco_atual) as preco_atual, \n",
    "  max(preco_anterior) as preco_anterior, \n",
    "  round(((max(preco_atual) - max(preco_anterior)) / (max(preco_anterior))) * 100, 2) AS perc_variacao_diaria\n",
    "FROM pega_valores\n",
    "GROUP BY pega_valores.codigo\n"
   ]
  },
  {
   "cell_type": "markdown",
   "metadata": {
    "application/vnd.databricks.v1+cell": {
     "cellMetadata": {},
     "inputWidgets": {},
     "nuid": "4bf8f2d8-354a-4e50-b895-97a86a306e49",
     "showTitle": false,
     "tableResultSettingsMap": {},
     "title": ""
    }
   },
   "source": [
    "## Annual Profit Summary by Stock"
   ]
  },
  {
   "cell_type": "code",
   "execution_count": 0,
   "metadata": {
    "application/vnd.databricks.v1+cell": {
     "cellMetadata": {
      "byteLimit": 2048000,
      "implicitDf": true,
      "rowLimit": 10000
     },
     "inputWidgets": {},
     "nuid": "d904dce3-a388-4d77-b93a-f236f2b882df",
     "showTitle": false,
     "tableResultSettingsMap": {},
     "title": ""
    }
   },
   "outputs": [],
   "source": [
    "%sql\n",
    "\n",
    "WITH \n",
    "datas as (\n",
    "  SELECT\n",
    "    codigo,\n",
    "    min(data_negociacao) as primeira_cotacao_ano,\n",
    "    max(data_negociacao) as ultima_cotacao_ano\n",
    "  FROM acoes_analise\n",
    "  WHERE year(data_negociacao) = year(current_date())\n",
    "  GROUP BY codigo\n",
    "),\n",
    "pega_valores as (\n",
    "  SELECT\n",
    "    acoes.codigo,\n",
    "    CASE WHEN acoes.data_negociacao = datas.primeira_cotacao_ano THEN acoes.abertura ELSE 0 END as abertura,\n",
    "    CASE WHEN acoes.data_negociacao = datas.ultima_cotacao_ano THEN acoes.fechamento ELSE 0 END as fechamento\n",
    "  FROM acoes_analise acoes\n",
    "  INNER JOIN datas ON datas.codigo = acoes.codigo\n",
    "    AND (acoes.data_negociacao = datas.primeira_cotacao_ano OR acoes.data_negociacao = datas.ultima_cotacao_ano)\n",
    ")\n",
    "SELECT\n",
    "  codigo,\n",
    "  sum(abertura) as abertura, \n",
    "  sum(fechamento) as fechamento, \n",
    "  round(sum(fechamento) - sum(abertura), 2) as lucro_ano\n",
    "FROM pega_valores\n",
    "GROUP BY codigo\n"
   ]
  },
  {
   "cell_type": "markdown",
   "metadata": {
    "application/vnd.databricks.v1+cell": {
     "cellMetadata": {},
     "inputWidgets": {},
     "nuid": "a88b6d60-6229-438e-98bd-db62378d3e84",
     "showTitle": false,
     "tableResultSettingsMap": {},
     "title": ""
    }
   },
   "source": [
    "## YTD Price (Year-to-Date Price)"
   ]
  },
  {
   "cell_type": "code",
   "execution_count": 0,
   "metadata": {
    "application/vnd.databricks.v1+cell": {
     "cellMetadata": {
      "byteLimit": 2048000,
      "implicitDf": true,
      "rowLimit": 10000
     },
     "inputWidgets": {},
     "nuid": "36865b31-6354-4ed3-b331-ddc973798db1",
     "showTitle": false,
     "tableResultSettingsMap": {},
     "title": ""
    }
   },
   "outputs": [],
   "source": [
    "%sql\n",
    "\n",
    "SELECT\n",
    "  data_negociacao, \n",
    "  month(data_negociacao) as mes, \n",
    "  codigo, \n",
    "  abertura, \n",
    "  fechamento\n",
    "FROM acoes_analise\n",
    "WHERE year(data_negociacao) = year(current_date())\n",
    "ORDER BY data_negociacao"
   ]
  },
  {
   "cell_type": "markdown",
   "metadata": {
    "application/vnd.databricks.v1+cell": {
     "cellMetadata": {},
     "inputWidgets": {},
     "nuid": "39ed163e-2b75-4c17-82b3-7faa0df56a02",
     "showTitle": false,
     "tableResultSettingsMap": {},
     "title": ""
    }
   },
   "source": [
    "## Trading Volume"
   ]
  },
  {
   "cell_type": "code",
   "execution_count": 0,
   "metadata": {
    "application/vnd.databricks.v1+cell": {
     "cellMetadata": {
      "byteLimit": 2048000,
      "implicitDf": true,
      "rowLimit": 10000
     },
     "inputWidgets": {},
     "nuid": "e0d666fa-5ab5-4c56-87fd-794ff88567ba",
     "showTitle": false,
     "tableResultSettingsMap": {},
     "title": ""
    }
   },
   "outputs": [],
   "source": [
    "%sql\n",
    "\n",
    "WITH\n",
    "volume_total as (\n",
    "  SELECT\n",
    "    codigo,\n",
    "    volume_necociacoes as volume_total_ultimo_dia \n",
    "  FROM \n",
    "    acoes_analise \n",
    "  WHERE \n",
    "    data_negociacao = (\n",
    "      SELECT max(data_negociacao)\n",
    "      FROM acoes_analise\n",
    "    )\n",
    "),\n",
    "\n",
    "media_volume as (\n",
    "  SELECT\n",
    "    codigo,\n",
    "    round(AVG(volume_necociacoes), 2) AS media_volume_ultimos_30_dias\n",
    "  FROM \n",
    "    acoes_analise\n",
    "  WHERE \n",
    "    data_negociacao >= CURRENT_DATE - INTERVAL '30 days'\n",
    "  GROUP BY\n",
    "    codigo\n",
    ")\n",
    "\n",
    "SELECT\n",
    "  media_volume.codigo,\n",
    "  volume_total.volume_total_ultimo_dia,\n",
    "  media_volume.media_volume_ultimos_30_dias\n",
    "FROM\n",
    "  media_volume\n",
    "INNER JOIN volume_total ON volume_total.codigo = media_volume.codigo\n"
   ]
  },
  {
   "cell_type": "markdown",
   "metadata": {
    "application/vnd.databricks.v1+cell": {
     "cellMetadata": {},
     "inputWidgets": {},
     "nuid": "4c0b2faf-b0ec-41d1-bc29-a39611eaf0c1",
     "showTitle": false,
     "tableResultSettingsMap": {},
     "title": ""
    }
   },
   "source": [
    "## Dividend Yield"
   ]
  },
  {
   "cell_type": "code",
   "execution_count": 0,
   "metadata": {
    "application/vnd.databricks.v1+cell": {
     "cellMetadata": {
      "byteLimit": 2048000,
      "implicitDf": true,
      "rowLimit": 10000
     },
     "inputWidgets": {},
     "nuid": "8509ba40-1ebc-49ab-9cd4-b7c5fc08bb41",
     "showTitle": false,
     "tableResultSettingsMap": {},
     "title": ""
    }
   },
   "outputs": [],
   "source": [
    "%sql\n",
    "\n",
    "WITH\n",
    "valor_acao as (\n",
    "  SELECT \n",
    "    codigo,\n",
    "    fechamento as preco_atual  \n",
    "  FROM \n",
    "    acoes_analise\n",
    "  WHERE \n",
    "    data_negociacao = (\n",
    "      SELECT MAX(data_negociacao)\n",
    "      FROM acoes_analise\n",
    "    )\n",
    "),\n",
    "\n",
    "soma_dividendos as (\n",
    "  SELECT \n",
    "    codigo,\n",
    "    round(SUM(dividendos), 2) as total_dividendo_365\n",
    "  FROM \n",
    "    df_dividendos\n",
    "  WHERE \n",
    "    data_negociacao >= CURRENT_DATE - INTERVAL '365 days'\n",
    "  GROUP BY \n",
    "    codigo\n",
    ")\n",
    "\n",
    "SELECT\n",
    "  valor_acao.codigo,\n",
    "  soma_dividendos.total_dividendo_365,\n",
    "  valor_acao.preco_atual,\n",
    "  round((soma_dividendos.total_dividendo_365 / valor_acao.preco_atual) * 100, 2) as dividend_yield\n",
    "FROM \n",
    "  soma_dividendos\n",
    "INNER JOIN \n",
    "  valor_acao ON soma_dividendos.codigo = valor_acao.codigo"
   ]
  },
  {
   "cell_type": "markdown",
   "metadata": {
    "application/vnd.databricks.v1+cell": {
     "cellMetadata": {},
     "inputWidgets": {},
     "nuid": "266f7353-20fa-4a39-9751-1c6a465098d1",
     "showTitle": false,
     "tableResultSettingsMap": {},
     "title": ""
    }
   },
   "source": [
    "## Dividends YTD vs Previous Year"
   ]
  },
  {
   "cell_type": "code",
   "execution_count": 0,
   "metadata": {
    "application/vnd.databricks.v1+cell": {
     "cellMetadata": {
      "byteLimit": 2048000,
      "implicitDf": true,
      "rowLimit": 10000
     },
     "inputWidgets": {},
     "nuid": "19efc241-9b58-4ae1-8620-c9bdae7163f3",
     "showTitle": false,
     "tableResultSettingsMap": {},
     "title": ""
    }
   },
   "outputs": [],
   "source": [
    "%sql\n",
    "SELECT\n",
    "  codigo,\n",
    "  round(SUM(\n",
    "    CASE WHEN YEAR(data_negociacao) = YEAR(CURRENT_DATE()) \n",
    "    THEN dividendos \n",
    "    ELSE 0 \n",
    "    END\n",
    "  ), 2\n",
    ") as total_dividendos_ano_atual,\n",
    "  round(SUM(\n",
    "    CASE WHEN YEAR(data_negociacao) = YEAR(CURRENT_DATE()) - 1 \n",
    "    THEN dividendos \n",
    "    ELSE 0 \n",
    "    END\n",
    "  ), 2\n",
    ") AS total_dividendos_ultimo_ano\n",
    "FROM \n",
    "  df_dividendos\n",
    "GROUP BY codigo\n"
   ]
  },
  {
   "cell_type": "markdown",
   "metadata": {
    "application/vnd.databricks.v1+cell": {
     "cellMetadata": {},
     "inputWidgets": {},
     "nuid": "f5a66110-c5d3-4a63-ab2b-d55a1ca721ba",
     "showTitle": false,
     "tableResultSettingsMap": {},
     "title": ""
    }
   },
   "source": [
    "## Dividends Paid by Month/Year"
   ]
  },
  {
   "cell_type": "code",
   "execution_count": 0,
   "metadata": {
    "application/vnd.databricks.v1+cell": {
     "cellMetadata": {
      "byteLimit": 2048000,
      "implicitDf": true,
      "rowLimit": 10000
     },
     "inputWidgets": {},
     "nuid": "7f882ea9-2e6d-418a-b20f-f096fbce2231",
     "showTitle": false,
     "tableResultSettingsMap": {},
     "title": ""
    }
   },
   "outputs": [],
   "source": [
    "%sql\n",
    "\n",
    "SELECT\n",
    "  codigo,\n",
    "  sum(dividendos) as soma_dividendos,\n",
    "  month(data_negociacao) as mes,\n",
    "  year(data_negociacao) as ano,\n",
    "  concat(month(data_negociacao), \"/\", year(data_negociacao)) as ref\n",
    "FROM df_dividendos\n",
    "WHERE (\n",
    "  data_negociacao BETWEEN date_trunc('YEAR', date_add(current_date(), -365))\n",
    "  AND date_add(current_date() -1, -366)\n",
    "  OR year(data_negociacao) = year(current_date())\n",
    ")\n",
    "  AND dividendos > 0\n",
    "GROUP BY codigo, mes, ano\n",
    "ORDER BY ano, mes"
   ]
  },
  {
   "cell_type": "markdown",
   "metadata": {
    "application/vnd.databricks.v1+cell": {
     "cellMetadata": {},
     "inputWidgets": {},
     "nuid": "b6f25af3-0534-46ff-bdc8-90b7a569413d",
     "showTitle": false,
     "tableResultSettingsMap": {},
     "title": ""
    }
   },
   "source": [
    "# Get Infos from Finnhub"
   ]
  },
  {
   "cell_type": "markdown",
   "metadata": {
    "application/vnd.databricks.v1+cell": {
     "cellMetadata": {},
     "inputWidgets": {},
     "nuid": "31bfdaa0-1df2-4c11-adf0-6b1928a20d88",
     "showTitle": false,
     "tableResultSettingsMap": {},
     "title": ""
    }
   },
   "source": [
    "## Install Dependencies"
   ]
  },
  {
   "cell_type": "code",
   "execution_count": 0,
   "metadata": {
    "application/vnd.databricks.v1+cell": {
     "cellMetadata": {
      "byteLimit": 2048000,
      "rowLimit": 10000
     },
     "collapsed": true,
     "inputWidgets": {},
     "nuid": "761ddf7b-3782-475d-8e97-8f9b44871d8d",
     "showTitle": false,
     "tableResultSettingsMap": {},
     "title": ""
    }
   },
   "outputs": [],
   "source": [
    "!pip install finnhub-python"
   ]
  },
  {
   "cell_type": "markdown",
   "metadata": {
    "application/vnd.databricks.v1+cell": {
     "cellMetadata": {},
     "inputWidgets": {},
     "nuid": "caab58ec-9e22-4d99-810e-3a99365f86d0",
     "showTitle": false,
     "tableResultSettingsMap": {},
     "title": ""
    }
   },
   "source": [
    "## Imports"
   ]
  },
  {
   "cell_type": "code",
   "execution_count": 0,
   "metadata": {
    "application/vnd.databricks.v1+cell": {
     "cellMetadata": {},
     "inputWidgets": {},
     "nuid": "c8b6b02e-6187-418c-9b35-857059fd7650",
     "showTitle": false,
     "tableResultSettingsMap": {},
     "title": ""
    }
   },
   "outputs": [],
   "source": [
    "import finnhub"
   ]
  },
  {
   "cell_type": "markdown",
   "metadata": {
    "application/vnd.databricks.v1+cell": {
     "cellMetadata": {},
     "inputWidgets": {},
     "nuid": "76718662-0ddd-4fb6-8d71-f956ab8417e6",
     "showTitle": false,
     "tableResultSettingsMap": {},
     "title": ""
    }
   },
   "source": [
    "## Get Stock Infos"
   ]
  },
  {
   "cell_type": "code",
   "execution_count": 0,
   "metadata": {
    "application/vnd.databricks.v1+cell": {
     "cellMetadata": {
      "byteLimit": 2048000,
      "rowLimit": 10000
     },
     "inputWidgets": {},
     "nuid": "815c90b4-dab5-4768-9c34-41a994f4437d",
     "showTitle": false,
     "tableResultSettingsMap": {},
     "title": ""
    }
   },
   "outputs": [],
   "source": [
    "# Insira sua chave de API da Finnhub\n",
    "API_KEY = \"\"\n",
    "\n",
    "# Inicialize o cliente da API\n",
    "finnhub_client = finnhub.Client(api_key=API_KEY)\n",
    "\n",
    "# Símbolo da ação para a qual deseja obter informações\n",
    "symbol = \"\"\n",
    "\n",
    "# Obtenha o perfil da empresa\n",
    "profile = finnhub_client.company_profile2(symbol=symbol)\n",
    "\n",
    "nome_empresa = profile.get(\"name\", \"Não Disponível\")\n",
    "setor = profile.get(\"finnhubIndustry\", \"Não Disponível\")\n",
    "industria = profile.get(\"industry\", \"Não Disponível\")\n",
    "pais = profile.get(\"country\", \"Não Disponível\")\n",
    "moeda = profile.get(\"currency\", \"Não Disponível\")\n",
    "\n",
    "# Exiba as informações principais\n",
    "print(f\"Nome da Empresa: {nome_empresa}\")\n",
    "print(f\"Setor: {setor}\")\n",
    "print(f\"Indústria: {industria}\")\n",
    "print(f\"País: {pais}\")\n",
    "print(f\"Moeda: {moeda}\")\n"
   ]
  }
 ],
 "metadata": {
  "application/vnd.databricks.v1+notebook": {
   "dashboards": [
    {
     "elements": [
      {
       "dashboardResultIndex": null,
       "elementNUID": "e4ceeaa7-9048-4ffa-9ae0-8565d994f98c",
       "elementType": "command",
       "guid": "07f32092-527f-4c2f-9020-9941f9c0bcc3",
       "options": {
        "autoScaleImg": false,
        "scale": 0,
        "showRunButton": false,
        "showTitle": true,
        "title": "Cotação YTD",
        "titleAlign": "center"
       },
       "position": {
        "height": 10,
        "width": 24,
        "x": 0,
        "y": 31,
        "z": null
       },
       "resultIndex": null
      },
      {
       "dashboardResultIndex": null,
       "elementNUID": "64b4c80d-bdf8-44f5-ab2f-df5b7bb98a5a",
       "elementType": "command",
       "guid": "29f89ffd-84f1-4b02-9847-ddb841a431c2",
       "options": {
        "autoScaleImg": false,
        "scale": 0,
        "showRunButton": false,
        "showTitle": true,
        "title": "Lucro/Perda Mais Recente",
        "titleAlign": "center"
       },
       "position": {
        "height": 7,
        "width": 11,
        "x": 0,
        "y": 11,
        "z": null
       },
       "resultIndex": null
      },
      {
       "dashboardResultIndex": null,
       "elementNUID": "e8b74b2a-ec13-431d-8af4-cfa920230b2f",
       "elementType": "command",
       "guid": "3a8b6373-b8bc-46b3-ad45-280be2341c9e",
       "options": {
        "autoScaleImg": false,
        "scale": 0,
        "showRunButton": false,
        "showTitle": true,
        "title": "Variação Diária",
        "titleAlign": "center"
       },
       "position": {
        "height": 7,
        "width": 12,
        "x": 12,
        "y": 18,
        "z": null
       },
       "resultIndex": null
      },
      {
       "dashboardResultIndex": null,
       "elementNUID": "ead68c08-34e5-4905-9049-8c419b03994c",
       "elementType": "command",
       "guid": "3c56a1fd-f786-4afe-8f9e-4d4b11b236f1",
       "options": {
        "autoScaleImg": false,
        "scale": 0,
        "showTitle": true,
        "title": "Resumo de Lucro Anual por Ação",
        "titleAlign": "center"
       },
       "position": {
        "height": 7,
        "width": 12,
        "x": 12,
        "y": 11,
        "z": null
       },
       "resultIndex": null
      },
      {
       "dashboardResultIndex": null,
       "elementNUID": "349369c1-d37a-4f13-960e-8a290a76686b",
       "elementType": "command",
       "guid": "3dc737be-633d-43aa-8ebe-fc9113f352a5",
       "options": {
        "autoScaleImg": false,
        "scale": 0,
        "showRunButton": false,
        "showTitle": true,
        "title": "Dividend Yield",
        "titleAlign": "center"
       },
       "position": {
        "height": 7,
        "width": 11,
        "x": 0,
        "y": 18,
        "z": null
       },
       "resultIndex": null
      },
      {
       "dashboardResultIndex": null,
       "elementNUID": "f1586364-028d-465f-b59f-e40b2427fb7b",
       "elementType": "command",
       "guid": "910d0772-1916-48b6-a53b-c38799705cd9",
       "options": {
        "autoScaleImg": false,
        "scale": 0,
        "showRunButton": false,
        "showTitle": true,
        "title": "Volume de Negociações",
        "titleAlign": "center"
       },
       "position": {
        "height": 6,
        "width": 11,
        "x": 0,
        "y": 25,
        "z": null
       },
       "resultIndex": null
      },
      {
       "dashboardResultIndex": null,
       "elementNUID": "9ac6ddc1-c5df-403c-b70b-69e4b0b5501c",
       "elementType": "command",
       "guid": "988996cc-faca-47ba-b15c-abc858dc246b",
       "options": {
        "autoScaleImg": false,
        "scale": 0,
        "showRunButton": false,
        "showTitle": true,
        "title": "Dividendos Pagos",
        "titleAlign": "center"
       },
       "position": {
        "height": 10,
        "width": 24,
        "x": 0,
        "y": 41,
        "z": null
       },
       "resultIndex": null
      },
      {
       "dashboardResultIndex": null,
       "elementNUID": "32cb9c10-2138-4d84-a099-103cbb957a00",
       "elementType": "command",
       "guid": "a774328f-685b-4773-9a56-c9b92d2f83d6",
       "options": {
        "autoScaleImg": false,
        "scale": 0,
        "showRunButton": false,
        "showTitle": true,
        "title": "Dividendos: YTD x Ano Anterior",
        "titleAlign": "center"
       },
       "position": {
        "height": 6,
        "width": 12,
        "x": 12,
        "y": 25,
        "z": null
       },
       "resultIndex": null
      },
      {
       "dashboardResultIndex": null,
       "elementNUID": "18301041-4e01-43f2-83da-220ef864bc9d",
       "elementType": "command",
       "guid": "b70482f8-e797-4b06-87c1-751ce68ac447",
       "options": {
        "autoScaleImg": false,
        "scale": 0,
        "showRunButton": false,
        "showTitle": true,
        "title": "Desempenho Diário",
        "titleAlign": "center"
       },
       "position": {
        "height": 11,
        "width": 24,
        "x": 0,
        "y": 0,
        "z": null
       },
       "resultIndex": null
      }
     ],
     "globalVars": {},
     "guid": "",
     "layoutOption": {
      "grid": true,
      "stack": true
     },
     "nuid": "7d0b2be6-7a58-49f3-892a-bd6e8334d3ac",
     "origId": 1840061234243438,
     "title": "Análise de Ações",
     "version": "DashboardViewV1",
     "width": 1024
    }
   ],
   "environmentMetadata": null,
   "language": "python",
   "notebookMetadata": {
    "mostRecentlyExecutedCommandWithImplicitDF": {
     "commandId": 921148053696220,
     "dataframes": [
      "_sqldf"
     ]
    },
    "pythonIndentUnit": 4
   },
   "notebookName": "acompanhamento_de_acoes_na_bolsa_de_valores_B3",
   "widgets": {
    "1. Código Ações": {
     "currentValue": "BBAS3.SA,ITUB4.SA",
     "nuid": "e22e4936-0318-46b5-ab5e-6da261cf60e5",
     "typedWidgetInfo": null,
     "widgetInfo": {
      "defaultValue": "",
      "label": null,
      "name": "1. Código Ações",
      "options": {
       "autoCreated": null,
       "validationRegex": null,
       "widgetType": "text"
      },
      "widgetType": "text"
     }
    },
    "2. Data Inicial (Ano-Mês-Dia)": {
     "currentValue": "2023-01-01",
     "nuid": "ad213761-3dc7-41b4-a8c6-6730fb2559f9",
     "typedWidgetInfo": null,
     "widgetInfo": {
      "defaultValue": "2024-11-01",
      "label": "",
      "name": "2. Data Inicial (Ano-Mês-Dia)",
      "options": {
       "autoCreated": null,
       "validationRegex": null,
       "widgetType": "text"
      },
      "widgetType": "text"
     }
    },
    "3. Data Final (Ano-Mês-Dia)": {
     "currentValue": "2024-10-30",
     "nuid": "11854585-bca0-4790-aa27-0dc14f766860",
     "typedWidgetInfo": null,
     "widgetInfo": {
      "defaultValue": "2024-11-01",
      "label": "",
      "name": "3. Data Final (Ano-Mês-Dia)",
      "options": {
       "autoCreated": null,
       "validationRegex": null,
       "widgetType": "text"
      },
      "widgetType": "text"
     }
    }
   }
  },
  "language_info": {
   "name": "python"
  }
 },
 "nbformat": 4,
 "nbformat_minor": 0
}
